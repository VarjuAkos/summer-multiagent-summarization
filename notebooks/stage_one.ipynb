{
 "cells": [
  {
   "cell_type": "markdown",
   "metadata": {},
   "source": [
    "# Set up"
   ]
  },
  {
   "cell_type": "code",
   "execution_count": 1,
   "metadata": {},
   "outputs": [
    {
     "name": "stdout",
     "output_type": "stream",
     "text": [
      "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\n"
     ]
    }
   ],
   "source": [
    "!echo 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"
   ]
  },
  {
   "cell_type": "code",
   "execution_count": null,
   "metadata": {},
   "outputs": [],
   "source": [
    "#!pip install -U langchain "
   ]
  },
  {
   "cell_type": "code",
   "execution_count": 2,
   "metadata": {},
   "outputs": [],
   "source": [
    "import os\n",
    "\n",
    "os.environ[\"LANGCHAIN_TRACING_V2\"] = \"true\"\n",
    "os.environ[\"LANGCHAIN_ENDPOINT\"] = \"https://api.smith.langchain.com\"\n",
    "os.environ[\"LANGCHAIN_API_KEY\"] = \"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\"\n",
    "os.environ[\"LANGCHAIN_PROJECT\"] = \"stage_1\""
   ]
  },
  {
   "cell_type": "code",
   "execution_count": 3,
   "metadata": {},
   "outputs": [],
   "source": [
    "from dotenv import load_dotenv\n",
    "from langgraph.graph import StateGraph, END\n",
    "from typing import TypedDict, Annotated, List\n",
    "import operator\n",
    "from langgraph.checkpoint.sqlite import SqliteSaver\n",
    "from langchain_core.messages import AnyMessage, SystemMessage, HumanMessage, AIMessage, ChatMessage\n",
    "from langchain.callbacks.tracers import LangChainTracer"
   ]
  },
  {
   "cell_type": "code",
   "execution_count": 5,
   "metadata": {},
   "outputs": [],
   "source": [
    "from langchain_anthropic import ChatAnthropic\n",
    "\n",
    "load_dotenv()\n",
    "anthropic_api_key = os.getenv(\"ANTHROPIC_API_KEY\")\n",
    "\n",
    "#model = ChatAnthropic(model=\"claude-3-5-sonnet-20240620\", anthropic_api_key=anthropic_api_key)\n",
    "model = ChatAnthropic(model=\"claude-3-haiku-20240307\", anthropic_api_key=anthropic_api_key)\n"
   ]
  },
  {
   "cell_type": "markdown",
   "metadata": {},
   "source": [
    "# Utils"
   ]
  },
  {
   "cell_type": "code",
   "execution_count": 79,
   "metadata": {},
   "outputs": [],
   "source": [
    "from typing import List\n",
    "\n",
    "def initialize_agent_state(transcript: str, meeting_type: str, main_topic: str, context: List[str], max_revisions : int) -> AgentState:\n",
    "\t\"\"\"\n",
    "\tInitialize the agent state with the given parameters.\n",
    "\n",
    "\tArgs:\n",
    "\ttranscript (str): The meeting transcript.\n",
    "\tmeeting_type (str): The type of the meeting.\n",
    "\tmain_topic (str): The main topic of the meeting.\n",
    "\tcontext (List[str]): Additional context information.\n",
    "\tmax_revisions (int): The maximume number of revison.\n",
    "\tReturns:\n",
    "\tAgentState: The initialized agent state.\n",
    "\t\"\"\"\n",
    "\treturn AgentState(\n",
    "\t\ttranscript=transcript,\n",
    "\t\tmeeting_type=meeting_type,\n",
    "\t\tmain_topic=main_topic,\n",
    "\t\tmax_revisions=max_revisions,\n",
    "\t\tcontext=context,\n",
    "\t\tsummary_plan=\"\",\n",
    "\t\tcritique_plan=\"\",\n",
    "\t\tsummary=\"\",\n",
    "\t\tcritique=\"\",\n",
    "\t\tfinal_summary= \"\",\n",
    "\t\trevision_number=0,\n",
    "\t\tmetadata={},\n",
    "\t\taction_items=[],\n",
    "\t\tdecisions=[]\n",
    "\t)"
   ]
  },
  {
   "cell_type": "code",
   "execution_count": 9,
   "metadata": {},
   "outputs": [],
   "source": [
    "def load_markdown_to_str(file_path):\n",
    "\twith open(file_path, 'r', encoding='utf-8') as md_file:\n",
    "\t\tmarkdown_content = md_file.read()\n",
    "\treturn markdown_content"
   ]
  },
  {
   "cell_type": "code",
   "execution_count": 10,
   "metadata": {},
   "outputs": [],
   "source": [
    "from langchain import PromptTemplate\n",
    "\n",
    "def load_and_format_prompt(prompt_path, **kwargs):\n",
    "\t# Load the prompt template\n",
    "\twith open(prompt_path, 'r', encoding='utf-8') as file:\n",
    "\t\ttemplate = file.read()\n",
    "\t\n",
    "\t# Create a PromptTemplate\n",
    "\tprompt = PromptTemplate(\n",
    "\t\tinput_variables=list(kwargs.keys()),\n",
    "\t\ttemplate=template\n",
    "\t)\n",
    "\t\n",
    "\t# Format the prompt with provided variables\n",
    "\tformatted_prompt = prompt.format(**kwargs)\n",
    "\t\n",
    "\treturn formatted_prompt"
   ]
  },
  {
   "cell_type": "code",
   "execution_count": null,
   "metadata": {},
   "outputs": [],
   "source": [
    "summary_draft = \"This is a draft summary of the meeting...\"\n",
    "meeting_transcript = \"Full transcript of the meeting goes here...\"\n",
    "summary_plan = \"The plan for summarizing the meeting...\"\n",
    "load_and_format_prompt(file_path=\"./prompts/updated-plan-generator-prompt.md\", )"
   ]
  },
  {
   "cell_type": "markdown",
   "metadata": {},
   "source": [
    "# Agents"
   ]
  },
  {
   "cell_type": "code",
   "execution_count": 78,
   "metadata": {},
   "outputs": [],
   "source": [
    "class AgentState(TypedDict):\n",
    "\ttranscript: str \t\t# get from UI\n",
    "\tmeeting_type: str \t\t# get from UI\n",
    "\tmain_topic: str  \t\t# get from UI\n",
    "\tmax_revisions: int\t\t# get from UI\n",
    "\tcontext: list[str] \t\t# get from database [later optinaly can be given by user]\n",
    "\tsummary_plan: str\t\t# populated by summary_plan_node\n",
    "\tcritique_plan: str\t\t# populated by critique_plan_node\n",
    "\tsummary: str\t\t\t# populated by summarizer_node\n",
    "\tcritique: str\t\t\t# populated by critic_node\n",
    "\tfinal_summary: str\t\t# populated by finalization_node\n",
    "\trevision_number: int \t# incremented by critic_node if revision is needed\n",
    "\tmetadata: dict\t\t\t# collect additional information\n",
    "\taction_items: list[str] \n",
    "\tdecisions: list[str]"
   ]
  },
  {
   "cell_type": "code",
   "execution_count": 42,
   "metadata": {},
   "outputs": [],
   "source": [
    "# Load prompts\n",
    "SUMMARY_PLAN_PROMPT = load_markdown_to_str(file_path=\"../data/prompts/updated-plan-generator-prompt.md\")\n",
    "CRITIQUE_PLAN_PROMPT = load_markdown_to_str(file_path=\"../data/prompts/updated-critique-planner-prompt.md\")\n",
    "SUMMARIZER_PROMPT = load_markdown_to_str(file_path=\"../data/prompts/draft-generation-prompt.md\")\n",
    "CRITIC_PROMPT = load_markdown_to_str(file_path=\"../data/prompts/critique-agent-prompt.md\")\n",
    "\n"
   ]
  },
  {
   "cell_type": "code",
   "execution_count": 40,
   "metadata": {},
   "outputs": [],
   "source": [
    "# Load prompts with variables\n",
    "meeting_type = \"Sprint Planning áá\"\n",
    "main_topic = \"Design the next 2 weeks of the sprint áá\"\n",
    "summary_draft = \"aaa\"\n",
    "critique_plan = \"ááá\"\n",
    "context = \"áá\"\n",
    "transcript = \"ááá\"\n",
    "SUMMARY_PLAN_PROMPT = load_and_format_prompt(prompt_path=\"../data/prompts/updated-plan-generator-prompt.md\", meeting_tpye= meeting_type,main_topic= main_topic)\n",
    "CRITIQUE_PLAN_PROMPT = load_and_format_prompt(prompt_path=\"../data/prompts/updated-critique-planner-prompt.md\", meeting_type = meeting_type, main_topic= main_topic)\n",
    "SUMMARIZER_PROMPT = load_and_format_prompt(prompt_path=\"../data/prompts/draft-generation-prompt.md\",summary_plan = summary_plan, context = context, transcript = transcript)\n",
    "CRITIC_PROMPT= load_and_format_prompt(prompt_path=\"../data/prompts/critique-agent-prompt.md\",summary_draft = summary_draft, transcript= transcript, critique_plan= critique_plan)\n"
   ]
  },
  {
   "cell_type": "markdown",
   "metadata": {},
   "source": [
    "TODO: Handle variables"
   ]
  },
  {
   "cell_type": "code",
   "execution_count": 44,
   "metadata": {},
   "outputs": [],
   "source": [
    "def summary_plan_node(state: AgentState) -> AgentState:\n",
    "    messages = [\n",
    "        SystemMessage(content=SUMMARY_PLAN_PROMPT),\n",
    "        HumanMessage(content=f\"Meeting Type: {state['meeting_type']}\\nMain Topic: {state['main_topic']}\")\n",
    "    ]\n",
    "    response = model.invoke(messages)\n",
    "    state[\"summary_plan\"] = response.content\n",
    "    return state"
   ]
  },
  {
   "cell_type": "code",
   "execution_count": 46,
   "metadata": {},
   "outputs": [],
   "source": [
    "def critique_plan_node(state: AgentState) -> AgentState:\n",
    "    messages = [\n",
    "        SystemMessage(content=CRITIQUE_PLAN_PROMPT),\n",
    "        HumanMessage(content=f\"Meeting Type: {state['meeting_type']}\\nMain Topic: {state['main_topic']}\")\n",
    "    ]\n",
    "    response = model.invoke(messages)\n",
    "    state[\"critique_plan\"] = response.content\n",
    "    return state"
   ]
  },
  {
   "cell_type": "code",
   "execution_count": 20,
   "metadata": {},
   "outputs": [],
   "source": [
    "def summarizer_node(state: AgentState) -> AgentState:\n",
    "\tmessages = [\n",
    "\t\tSystemMessage(content=SUMMARIZER_PROMPT),\n",
    "\t\tHumanMessage(content=f\"\"\"\n",
    "\t\tMeeting Type: {state['meeting_type']}\n",
    "\t\tMain Topic: {state['main_topic']}\n",
    "\t\tSummary Plan: {state['summary_plan']}\n",
    "\t\tTranscript: {state['transcript']}\n",
    "\t\tPrevious Summary: {state['summary']}\n",
    "\t\tRevision Number: {state['revision_number']}\n",
    "\t\t\"\"\")\n",
    "\t]\n",
    "\tresponse = model.invoke(messages)\n",
    "\tstate[\"summary\"] = response.content\n",
    "\t\n",
    "\t# Extract action items and decisions (this is a simple implementation and might need refinement)\n",
    "\tstate[\"action_items\"] = [line for line in response.content.split('\\n') if line.startswith(\"Action Item:\")]\n",
    "\tstate[\"decisions\"] = [line for line in response.content.split('\\n') if line.startswith(\"Decision:\")]\n",
    "\t\n",
    "\treturn state"
   ]
  },
  {
   "cell_type": "code",
   "execution_count": 21,
   "metadata": {},
   "outputs": [],
   "source": [
    "def critic_node(state: AgentState) -> AgentState:\n",
    "\tmessages = [\n",
    "\t\tSystemMessage(content=CRITIC_PROMPT),\n",
    "\t\tHumanMessage(content=f\"\"\"\n",
    "\t\tMeeting Type: {state['meeting_type']}\n",
    "\t\tMain Topic: {state['main_topic']}\n",
    "\t\tCritique Plan: {state['critique_plan']}\n",
    "\t\tSummary: {state['summary']}\n",
    "\t\tTranscript: {state['transcript']}\n",
    "\t\t\"\"\")\n",
    "\t]\n",
    "\tresponse = model.invoke(messages)\n",
    "\tstate[\"critique\"] = response.content\n",
    "\t\n",
    "\t# Determine if revision is needed (this logic might need refinement based on your specific requirements)\n",
    "\tstate[\"needs_revision\"] = \"REVISION NEEDED\" in response.content.upper()\n",
    "\t\n",
    "\tif state[\"needs_revision\"]:\n",
    "\t\tstate[\"revision_number\"] += 1\n",
    "\t\n",
    "\treturn state"
   ]
  },
  {
   "cell_type": "code",
   "execution_count": 63,
   "metadata": {},
   "outputs": [],
   "source": [
    "from datetime import datetime\n",
    "\n",
    "\n",
    "def finalization_node(state: AgentState) -> AgentState:\n",
    "\t# Here you can add any final processing, formatting, or metadata addition\n",
    "\tstate[\"metadata\"][\"final_revision_count\"] = state[\"revision_number\"]\n",
    "\tstate[\"metadata\"][\"finalization_timestamp\"] = datetime.now().isoformat()\n",
    "\t\n",
    "\t# You might want to generate a final, formatted version of the summary here\n",
    "\t# For now, we'll just use the existing summary\n",
    "\tstate[\"final_summary\"] = state[\"summary\"]\n",
    "\t\n",
    "\treturn state"
   ]
  },
  {
   "cell_type": "markdown",
   "metadata": {},
   "source": [
    "# Graph"
   ]
  },
  {
   "cell_type": "code",
   "execution_count": 80,
   "metadata": {},
   "outputs": [],
   "source": [
    "def create_meeting_summary_workflow(checkpointer):\n",
    "\tworkflow = StateGraph(AgentState)\n",
    "\n",
    "\t# Define nodes\n",
    "\tworkflow.add_node(\"generate_summary_plan\", summary_plan_node)\n",
    "\tworkflow.add_node(\"generate_critique_plan\", critique_plan_node)\n",
    "\tworkflow.add_node(\"generate_summary\", summarizer_node)\n",
    "\tworkflow.add_node(\"perform_critique\", critic_node)\n",
    "\tworkflow.add_node(\"finalize_summary\", finalization_node)\n",
    "\n",
    "\t# Define edges\n",
    "\tworkflow.add_edge(\"generate_summary_plan\", \"generate_critique_plan\")\n",
    "\tworkflow.add_edge(\"generate_critique_plan\", \"generate_summary\")\n",
    "\tworkflow.add_edge(\"generate_summary\", \"perform_critique\")\n",
    "\tworkflow.add_conditional_edges(\n",
    "\t\t\"perform_critique\",\n",
    "\t\tlambda x: \"generate_summary\" if x[\"needs_revision\"] and x[\"revision_number\"] < x[\"max_revisions\"] else \"finalize_summary\",\n",
    "\t\t{\n",
    "\t\t\t\"generate_summary\": \"generate_summary\",\n",
    "\t\t\t\"finalize_summary\": \"finalize_summary\"\n",
    "\t\t}\n",
    "\t)\n",
    "\tworkflow.add_edge(\"finalize_summary\", END)\n",
    "\n",
    "\t# Set entry point\n",
    "\tworkflow.set_entry_point(\"generate_summary_plan\")\n",
    "\n",
    "\treturn workflow.compile(checkpointer = checkpointer)"
   ]
  },
  {
   "cell_type": "code",
   "execution_count": 61,
   "metadata": {},
   "outputs": [
    {
     "data": {
      "text/plain": [
       "<langgraph.graph.state.StateGraph at 0x18b727cd730>"
      ]
     },
     "execution_count": 61,
     "metadata": {},
     "output_type": "execute_result"
    }
   ],
   "source": [
    "workflow = StateGraph(AgentState)\n",
    "\n",
    "# Define nodes with distinct names\n",
    "workflow.add_node(\"generate_summary_plan\", summary_plan_node)\n",
    "workflow.add_node(\"generate_critique_plan\", critique_plan_node)\n",
    "workflow.add_node(\"generate_summary\", summarizer_node)\n",
    "workflow.add_node(\"perform_critique\", critic_node)\n",
    "workflow.add_node(\"finalize_summary\", finalization_node)\n",
    "\n",
    "# Define edges\n",
    "workflow.add_edge(\"generate_summary_plan\", \"generate_critique_plan\")\n",
    "workflow.add_edge(\"generate_critique_plan\", \"generate_summary\")\n",
    "workflow.add_edge(\"perform_critique\", \"generate_summary\")\n",
    "workflow.add_conditional_edges(\n",
    "\t\"perform_critique\",\n",
    "\tlambda x: \"generate_summary\" if x[\"needs_revision\"] and x[\"revision_number\"] < x[\"max_revisions\"] else \"finalize_summary\",\n",
    "\t{\n",
    "\t\t\"generate_summary\": \"generate_summary\",\n",
    "\t\t\"finalize_summary\": \"finalize_summary\"\n",
    "\t}\n",
    ")\n",
    "workflow.add_edge(\"finalize_summary\", END)\n",
    "\n",
    "# Set entry point\n",
    "workflow.set_entry_point(\"generate_summary_plan\")"
   ]
  },
  {
   "cell_type": "code",
   "execution_count": 81,
   "metadata": {},
   "outputs": [
    {
     "name": "stdout",
     "output_type": "stream",
     "text": [
      "%%{init: {'flowchart': {'curve': 'linear'}}}%%\n",
      "graph TD;\n",
      "\t__start__([<p>__start__</p>]):::first\n",
      "\tgenerate_summary_plan(generate_summary_plan)\n",
      "\tgenerate_critique_plan(generate_critique_plan)\n",
      "\tgenerate_summary(generate_summary)\n",
      "\tperform_critique(perform_critique)\n",
      "\tfinalize_summary(finalize_summary)\n",
      "\t__end__([<p>__end__</p>]):::last\n",
      "\t__start__ --> generate_summary_plan;\n",
      "\tfinalize_summary --> __end__;\n",
      "\tgenerate_critique_plan --> generate_summary;\n",
      "\tgenerate_summary --> perform_critique;\n",
      "\tgenerate_summary_plan --> generate_critique_plan;\n",
      "\tperform_critique -.-> generate_summary;\n",
      "\tperform_critique -.-> finalize_summary;\n",
      "\tclassDef default fill:#f2f0ff,line-height:1.2\n",
      "\tclassDef first fill-opacity:0\n",
      "\tclassDef last fill:#bfb6fc\n",
      "\n"
     ]
    }
   ],
   "source": [
    "with SqliteSaver.from_conn_string(\":memory:\") as memory:\n",
    "    graph = create_meeting_summary_workflow(memory)\n",
    "    print(graph.get_graph().draw_mermaid())"
   ]
  },
  {
   "cell_type": "markdown",
   "metadata": {},
   "source": []
  },
  {
   "cell_type": "code",
   "execution_count": null,
   "metadata": {},
   "outputs": [],
   "source": [
    "transcript = load_markdown_to_str(file_path=\"../data/transcriptions/project-status-update-transcription.md\")\n",
    "context = [load_markdown_to_str(file_path=\"../data/company-data/it-company-profile.md\"),load_markdown_to_str(file_path=\"../data/company-data/employee-profiles.md\")]\n",
    "initial_state = initialize_agent_state(\n",
    "    meeting_type=\"Sprint planning meeting\",\n",
    "    transcript=transcript,\n",
    "    main_topic=\" To plan the 2 weeks of the sprint\",\n",
    "    context=context,\n",
    "    max_revisions=2\n",
    ")\n",
    "print(initial_state)\n",
    "print(type(initial_state))\n",
    "pprint(initial_state)\n"
   ]
  },
  {
   "cell_type": "code",
   "execution_count": null,
   "metadata": {},
   "outputs": [],
   "source": [
    "from pprint import pprint\n",
    "from typing import List, Dict, Any\n",
    "\n",
    "all_states: List[Dict[str, Any]] = []\n",
    "\n",
    "with SqliteSaver.from_conn_string(\":memory:\") as memory:\n",
    "    graph = create_meeting_summary_workflow(memory)\n",
    "    thread = {\"configurable\": {\"thread_id\": \"1\"}}\n",
    "    for s in graph.stream(initial_state, thread):\n",
    "        pprint(s)\n",
    "        all_states.append(s)\n",
    "\n",
    "\t\n",
    "print(f\"\\nTotal number of states: {len(all_states)}\")\n",
    "\n",
    "# Access specific states\n",
    "print(\"\\nFirst state:\")\n",
    "pprint(all_states[0])\n",
    "\n",
    "print(\"\\nLast state:\")\n",
    "pprint(all_states[-1])\n",
    "\n",
    "# You can also iterate through all states\n",
    "for i, state in enumerate(all_states):\n",
    "    print(f\"\\nState {i}:\")\n",
    "    pprint(state)"
   ]
  },
  {
   "cell_type": "code",
   "execution_count": null,
   "metadata": {},
   "outputs": [],
   "source": [
    "# Access the last state\n",
    "last_state = all_states[-1]\n",
    "\n",
    "# Print the final summary from the last state\n",
    "print(\"\\nFinal Summary:\")\n",
    "print(last_state.get('final_summary'))\n",
    "last_state.items().get\n"
   ]
  }
 ],
 "metadata": {
  "kernelspec": {
   "display_name": ".venv",
   "language": "python",
   "name": "python3"
  },
  "language_info": {
   "codemirror_mode": {
    "name": "ipython",
    "version": 3
   },
   "file_extension": ".py",
   "mimetype": "text/x-python",
   "name": "python",
   "nbconvert_exporter": "python",
   "pygments_lexer": "ipython3",
   "version": "3.12.5"
  }
 },
 "nbformat": 4,
 "nbformat_minor": 2
}
