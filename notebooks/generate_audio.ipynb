{
 "cells": [
  {
   "cell_type": "code",
   "execution_count": 4,
   "metadata": {},
   "outputs": [
    {
     "name": "stdout",
     "output_type": "stream",
     "text": [
      "90de99cf845486dedf7f9d35f81f2d083c216ac6\n"
     ]
    }
   ],
   "source": [
    "!echo 90de99cf845486dedf7f9d35f81f2d083c216ac6"
   ]
  },
  {
   "cell_type": "code",
   "execution_count": 8,
   "metadata": {},
   "outputs": [
    {
     "name": "stdout",
     "output_type": "stream",
     "text": [
      "Collecting deepgram-sdk\n",
      "  Downloading deepgram_sdk-3.7.3-py3-none-any.whl.metadata (13 kB)\n",
      "Requirement already satisfied: httpx>=0.25.2 in c:\\egyetem\\7felev\\szakdolgozat\\summer\\.venv\\lib\\site-packages (from deepgram-sdk) (0.27.2)\n",
      "Collecting websockets>=12.0 (from deepgram-sdk)\n",
      "  Downloading websockets-13.1-cp312-cp312-win_amd64.whl.metadata (7.0 kB)\n",
      "Collecting dataclasses-json>=0.6.3 (from deepgram-sdk)\n",
      "  Using cached dataclasses_json-0.6.7-py3-none-any.whl.metadata (25 kB)\n",
      "Requirement already satisfied: typing-extensions>=4.9.0 in c:\\egyetem\\7felev\\szakdolgozat\\summer\\.venv\\lib\\site-packages (from deepgram-sdk) (4.12.2)\n",
      "Requirement already satisfied: aiohttp>=3.9.1 in c:\\egyetem\\7felev\\szakdolgozat\\summer\\.venv\\lib\\site-packages (from deepgram-sdk) (3.10.8)\n",
      "Collecting aiofiles>=23.2.1 (from deepgram-sdk)\n",
      "  Downloading aiofiles-24.1.0-py3-none-any.whl.metadata (10 kB)\n",
      "Collecting aenum>=3.1.0 (from deepgram-sdk)\n",
      "  Downloading aenum-3.1.15-py3-none-any.whl.metadata (3.7 kB)\n",
      "Collecting deprecation>=2.1.0 (from deepgram-sdk)\n",
      "  Downloading deprecation-2.1.0-py2.py3-none-any.whl.metadata (4.6 kB)\n",
      "Requirement already satisfied: aiohappyeyeballs>=2.3.0 in c:\\egyetem\\7felev\\szakdolgozat\\summer\\.venv\\lib\\site-packages (from aiohttp>=3.9.1->deepgram-sdk) (2.4.2)\n",
      "Requirement already satisfied: aiosignal>=1.1.2 in c:\\egyetem\\7felev\\szakdolgozat\\summer\\.venv\\lib\\site-packages (from aiohttp>=3.9.1->deepgram-sdk) (1.3.1)\n",
      "Requirement already satisfied: attrs>=17.3.0 in c:\\egyetem\\7felev\\szakdolgozat\\summer\\.venv\\lib\\site-packages (from aiohttp>=3.9.1->deepgram-sdk) (24.2.0)\n",
      "Requirement already satisfied: frozenlist>=1.1.1 in c:\\egyetem\\7felev\\szakdolgozat\\summer\\.venv\\lib\\site-packages (from aiohttp>=3.9.1->deepgram-sdk) (1.4.1)\n",
      "Requirement already satisfied: multidict<7.0,>=4.5 in c:\\egyetem\\7felev\\szakdolgozat\\summer\\.venv\\lib\\site-packages (from aiohttp>=3.9.1->deepgram-sdk) (6.1.0)\n",
      "Requirement already satisfied: yarl<2.0,>=1.12.0 in c:\\egyetem\\7felev\\szakdolgozat\\summer\\.venv\\lib\\site-packages (from aiohttp>=3.9.1->deepgram-sdk) (1.13.1)\n",
      "Collecting marshmallow<4.0.0,>=3.18.0 (from dataclasses-json>=0.6.3->deepgram-sdk)\n",
      "  Using cached marshmallow-3.22.0-py3-none-any.whl.metadata (7.2 kB)\n",
      "Collecting typing-inspect<1,>=0.4.0 (from dataclasses-json>=0.6.3->deepgram-sdk)\n",
      "  Using cached typing_inspect-0.9.0-py3-none-any.whl.metadata (1.5 kB)\n",
      "Requirement already satisfied: packaging in c:\\egyetem\\7felev\\szakdolgozat\\summer\\.venv\\lib\\site-packages (from deprecation>=2.1.0->deepgram-sdk) (24.1)\n",
      "Requirement already satisfied: anyio in c:\\egyetem\\7felev\\szakdolgozat\\summer\\.venv\\lib\\site-packages (from httpx>=0.25.2->deepgram-sdk) (4.6.0)\n",
      "Requirement already satisfied: certifi in c:\\egyetem\\7felev\\szakdolgozat\\summer\\.venv\\lib\\site-packages (from httpx>=0.25.2->deepgram-sdk) (2024.8.30)\n",
      "Requirement already satisfied: httpcore==1.* in c:\\egyetem\\7felev\\szakdolgozat\\summer\\.venv\\lib\\site-packages (from httpx>=0.25.2->deepgram-sdk) (1.0.5)\n",
      "Requirement already satisfied: idna in c:\\egyetem\\7felev\\szakdolgozat\\summer\\.venv\\lib\\site-packages (from httpx>=0.25.2->deepgram-sdk) (3.10)\n",
      "Requirement already satisfied: sniffio in c:\\egyetem\\7felev\\szakdolgozat\\summer\\.venv\\lib\\site-packages (from httpx>=0.25.2->deepgram-sdk) (1.3.1)\n",
      "Requirement already satisfied: h11<0.15,>=0.13 in c:\\egyetem\\7felev\\szakdolgozat\\summer\\.venv\\lib\\site-packages (from httpcore==1.*->httpx>=0.25.2->deepgram-sdk) (0.14.0)\n",
      "Collecting mypy-extensions>=0.3.0 (from typing-inspect<1,>=0.4.0->dataclasses-json>=0.6.3->deepgram-sdk)\n",
      "  Using cached mypy_extensions-1.0.0-py3-none-any.whl.metadata (1.1 kB)\n",
      "Downloading deepgram_sdk-3.7.3-py3-none-any.whl (130 kB)\n",
      "Downloading aenum-3.1.15-py3-none-any.whl (137 kB)\n",
      "Downloading aiofiles-24.1.0-py3-none-any.whl (15 kB)\n",
      "Using cached dataclasses_json-0.6.7-py3-none-any.whl (28 kB)\n",
      "Downloading deprecation-2.1.0-py2.py3-none-any.whl (11 kB)\n",
      "Downloading websockets-13.1-cp312-cp312-win_amd64.whl (159 kB)\n",
      "Using cached marshmallow-3.22.0-py3-none-any.whl (49 kB)\n",
      "Using cached typing_inspect-0.9.0-py3-none-any.whl (8.8 kB)\n",
      "Using cached mypy_extensions-1.0.0-py3-none-any.whl (4.7 kB)\n",
      "Installing collected packages: aenum, websockets, mypy-extensions, marshmallow, deprecation, aiofiles, typing-inspect, dataclasses-json, deepgram-sdk\n",
      "Successfully installed aenum-3.1.15 aiofiles-24.1.0 dataclasses-json-0.6.7 deepgram-sdk-3.7.3 deprecation-2.1.0 marshmallow-3.22.0 mypy-extensions-1.0.0 typing-inspect-0.9.0 websockets-13.1\n",
      "Requirement already satisfied: pydub in c:\\egyetem\\7felev\\szakdolgozat\\summer\\.venv\\lib\\site-packages (0.25.1)\n"
     ]
    }
   ],
   "source": [
    "!pip install deepgram-sdk\n",
    "!pip install pydub"
   ]
  },
  {
   "cell_type": "code",
   "execution_count": 16,
   "metadata": {},
   "outputs": [
    {
     "name": "stdout",
     "output_type": "stream",
     "text": [
      "Requirement already satisfied: deepgram-sdk in c:\\egyetem\\7felev\\szakdolgozat\\summer\\.venv\\lib\\site-packages (3.7.3)\n",
      "Requirement already satisfied: httpx>=0.25.2 in c:\\egyetem\\7felev\\szakdolgozat\\summer\\.venv\\lib\\site-packages (from deepgram-sdk) (0.27.2)\n",
      "Requirement already satisfied: websockets>=12.0 in c:\\egyetem\\7felev\\szakdolgozat\\summer\\.venv\\lib\\site-packages (from deepgram-sdk) (13.1)\n",
      "Requirement already satisfied: dataclasses-json>=0.6.3 in c:\\egyetem\\7felev\\szakdolgozat\\summer\\.venv\\lib\\site-packages (from deepgram-sdk) (0.6.7)\n",
      "Requirement already satisfied: typing-extensions>=4.9.0 in c:\\egyetem\\7felev\\szakdolgozat\\summer\\.venv\\lib\\site-packages (from deepgram-sdk) (4.12.2)\n",
      "Requirement already satisfied: aiohttp>=3.9.1 in c:\\egyetem\\7felev\\szakdolgozat\\summer\\.venv\\lib\\site-packages (from deepgram-sdk) (3.10.8)\n",
      "Requirement already satisfied: aiofiles>=23.2.1 in c:\\egyetem\\7felev\\szakdolgozat\\summer\\.venv\\lib\\site-packages (from deepgram-sdk) (24.1.0)\n",
      "Requirement already satisfied: aenum>=3.1.0 in c:\\egyetem\\7felev\\szakdolgozat\\summer\\.venv\\lib\\site-packages (from deepgram-sdk) (3.1.15)\n",
      "Requirement already satisfied: deprecation>=2.1.0 in c:\\egyetem\\7felev\\szakdolgozat\\summer\\.venv\\lib\\site-packages (from deepgram-sdk) (2.1.0)\n",
      "Requirement already satisfied: aiohappyeyeballs>=2.3.0 in c:\\egyetem\\7felev\\szakdolgozat\\summer\\.venv\\lib\\site-packages (from aiohttp>=3.9.1->deepgram-sdk) (2.4.2)\n",
      "Requirement already satisfied: aiosignal>=1.1.2 in c:\\egyetem\\7felev\\szakdolgozat\\summer\\.venv\\lib\\site-packages (from aiohttp>=3.9.1->deepgram-sdk) (1.3.1)\n",
      "Requirement already satisfied: attrs>=17.3.0 in c:\\egyetem\\7felev\\szakdolgozat\\summer\\.venv\\lib\\site-packages (from aiohttp>=3.9.1->deepgram-sdk) (24.2.0)\n",
      "Requirement already satisfied: frozenlist>=1.1.1 in c:\\egyetem\\7felev\\szakdolgozat\\summer\\.venv\\lib\\site-packages (from aiohttp>=3.9.1->deepgram-sdk) (1.4.1)\n",
      "Requirement already satisfied: multidict<7.0,>=4.5 in c:\\egyetem\\7felev\\szakdolgozat\\summer\\.venv\\lib\\site-packages (from aiohttp>=3.9.1->deepgram-sdk) (6.1.0)\n",
      "Requirement already satisfied: yarl<2.0,>=1.12.0 in c:\\egyetem\\7felev\\szakdolgozat\\summer\\.venv\\lib\\site-packages (from aiohttp>=3.9.1->deepgram-sdk) (1.13.1)\n",
      "Requirement already satisfied: marshmallow<4.0.0,>=3.18.0 in c:\\egyetem\\7felev\\szakdolgozat\\summer\\.venv\\lib\\site-packages (from dataclasses-json>=0.6.3->deepgram-sdk) (3.22.0)\n",
      "Requirement already satisfied: typing-inspect<1,>=0.4.0 in c:\\egyetem\\7felev\\szakdolgozat\\summer\\.venv\\lib\\site-packages (from dataclasses-json>=0.6.3->deepgram-sdk) (0.9.0)\n",
      "Requirement already satisfied: packaging in c:\\egyetem\\7felev\\szakdolgozat\\summer\\.venv\\lib\\site-packages (from deprecation>=2.1.0->deepgram-sdk) (24.1)\n",
      "Requirement already satisfied: anyio in c:\\egyetem\\7felev\\szakdolgozat\\summer\\.venv\\lib\\site-packages (from httpx>=0.25.2->deepgram-sdk) (4.6.0)\n",
      "Requirement already satisfied: certifi in c:\\egyetem\\7felev\\szakdolgozat\\summer\\.venv\\lib\\site-packages (from httpx>=0.25.2->deepgram-sdk) (2024.8.30)\n",
      "Requirement already satisfied: httpcore==1.* in c:\\egyetem\\7felev\\szakdolgozat\\summer\\.venv\\lib\\site-packages (from httpx>=0.25.2->deepgram-sdk) (1.0.5)\n",
      "Requirement already satisfied: idna in c:\\egyetem\\7felev\\szakdolgozat\\summer\\.venv\\lib\\site-packages (from httpx>=0.25.2->deepgram-sdk) (3.10)\n",
      "Requirement already satisfied: sniffio in c:\\egyetem\\7felev\\szakdolgozat\\summer\\.venv\\lib\\site-packages (from httpx>=0.25.2->deepgram-sdk) (1.3.1)\n",
      "Requirement already satisfied: h11<0.15,>=0.13 in c:\\egyetem\\7felev\\szakdolgozat\\summer\\.venv\\lib\\site-packages (from httpcore==1.*->httpx>=0.25.2->deepgram-sdk) (0.14.0)\n",
      "Requirement already satisfied: mypy-extensions>=0.3.0 in c:\\egyetem\\7felev\\szakdolgozat\\summer\\.venv\\lib\\site-packages (from typing-inspect<1,>=0.4.0->dataclasses-json>=0.6.3->deepgram-sdk) (1.0.0)\n"
     ]
    }
   ],
   "source": [
    "   !pip install --upgrade deepgram-sdk"
   ]
  },
  {
   "cell_type": "code",
   "execution_count": 37,
   "metadata": {},
   "outputs": [],
   "source": [
    "import re\n",
    "import os\n",
    "from deepgram import DeepgramClient, SpeakOptions\n",
    "\n",
    "DEEPGRAM_API_KEY = \"90de99cf845486dedf7f9d35f81f2d083c216ac6\"\n",
    "INPUT_FILE = \"../data/transcript-workflows/DailyScrumMeeting2.txt\"\n",
    "OUTPUT_FOLDER = \"./audio\"\n",
    "\n",
    "def read_transcript(file_path):\n",
    "    with open(file_path, 'r') as file:\n",
    "        return file.read()\n",
    "\n",
    "def parse_transcript(transcript):\n",
    "    pattern = r'\\[([^\\]]+)\\]: (.+?)(?=\\n\\[|$)'\n",
    "    return re.findall(pattern, transcript, re.DOTALL)\n",
    "\n",
    "def text_to_speech(client, text, voice, output_file):\n",
    "    options = SpeakOptions(\n",
    "        model=voice\n",
    "    )\n",
    "    \n",
    "    try:\n",
    "        response = client.speak.v(\"1\").save(output_file, {\"text\": text}, options)\n",
    "        print(f\"Generated audio for {voice}: {output_file}\")\n",
    "        return response\n",
    "    except Exception as e:\n",
    "        print(f\"Error generating audio for {voice}: {e}\")\n",
    "        return None\n",
    "\n",
    "def main():\n",
    "    # Create Deepgram client\n",
    "    deepgram = DeepgramClient(DEEPGRAM_API_KEY)\n",
    "\n",
    "    # Read and parse the transcript\n",
    "    transcript = read_transcript(INPUT_FILE)\n",
    "    parsed_transcript = parse_transcript(transcript)\n",
    "\n",
    "    # Map speakers to Deepgram voices\n",
    "    voice_mapping = {\n",
    "        \"Sarah Chen\": \"aura-luna-en\",\n",
    "        \"Alex Rodriguez\": \"aura-orion-en\",\n",
    "        \"Emily Watson\": \"aura-stella-en\",\n",
    "        \"Michael Kim\": \"aura-arcas-en\",\n",
    "        \"Olivia Martinez\": \"aura-hera-en\",\n",
    "        \"Liam Foster\": \"aura-perseus-en\"\n",
    "    }\n",
    "\n",
    "    # Ensure output folder exists\n",
    "    os.makedirs(OUTPUT_FOLDER, exist_ok=True)\n",
    "\n",
    "    # Generate audio for each speaker's part\n",
    "    for i, (speaker, text) in enumerate(parsed_transcript):\n",
    "        output_file = f\"{OUTPUT_FOLDER}/{i+1:02d}_{speaker.replace(' ', '_')}.mp3\"\n",
    "        voice = voice_mapping.get(speaker, \"aura-asteria-en\")  # Default to aura-asteria-en if speaker not found\n",
    "        text_to_speech(deepgram, text, voice, output_file)\n",
    "\n",
    "    print(\"Audio generation complete. The files are numbered in the order of the conversation.\")"
   ]
  },
  {
   "cell_type": "code",
   "execution_count": 38,
   "metadata": {},
   "outputs": [
    {
     "name": "stderr",
     "output_type": "stream",
     "text": [
      "C:\\Users\\varju\\AppData\\Local\\Temp\\ipykernel_48080\\3333725309.py:23: DeprecatedWarning: v is deprecated as of 3.4.0 and will be removed in 4.0.0. deepgram.speak.v1 is deprecated. Use deepgram.speak.rest or deepgram.speak.websocket instead.\n",
      "  response = client.speak.v(\"1\").save(output_file, {\"text\": text}, options)\n"
     ]
    },
    {
     "name": "stdout",
     "output_type": "stream",
     "text": [
      "Generated audio for aura-luna-en: ./audio/01_Sarah_Chen.mp3\n",
      "Generated audio for aura-orion-en: ./audio/02_Alex_Rodriguez.mp3\n",
      "Generated audio for aura-luna-en: ./audio/03_Sarah_Chen.mp3\n",
      "Generated audio for aura-stella-en: ./audio/04_Emily_Watson.mp3\n",
      "Generated audio for aura-luna-en: ./audio/05_Sarah_Chen.mp3\n",
      "Generated audio for aura-arcas-en: ./audio/06_Michael_Kim.mp3\n",
      "Generated audio for aura-luna-en: ./audio/07_Sarah_Chen.mp3\n",
      "Generated audio for aura-hera-en: ./audio/08_Olivia_Martinez.mp3\n",
      "Generated audio for aura-luna-en: ./audio/09_Sarah_Chen.mp3\n",
      "Generated audio for aura-perseus-en: ./audio/10_Liam_Foster.mp3\n",
      "Generated audio for aura-luna-en: ./audio/11_Sarah_Chen.mp3\n",
      "Generated audio for aura-orion-en: ./audio/12_Alex_Rodriguez.mp3\n",
      "Generated audio for aura-stella-en: ./audio/13_Emily_Watson.mp3\n",
      "Generated audio for aura-arcas-en: ./audio/14_Michael_Kim.mp3\n",
      "Generated audio for aura-hera-en: ./audio/15_Olivia_Martinez.mp3\n",
      "Generated audio for aura-perseus-en: ./audio/16_Liam_Foster.mp3\n",
      "Generated audio for aura-luna-en: ./audio/17_Sarah_Chen.mp3\n",
      "Generated audio for aura-arcas-en: ./audio/18_Michael_Kim.mp3\n",
      "Generated audio for aura-orion-en: ./audio/19_Alex_Rodriguez.mp3\n",
      "Generated audio for aura-luna-en: ./audio/20_Sarah_Chen.mp3\n",
      "Generated audio for aura-stella-en: ./audio/21_Emily_Watson.mp3\n",
      "Generated audio for aura-luna-en: ./audio/22_Sarah_Chen.mp3\n",
      "Generated audio for aura-hera-en: ./audio/23_Olivia_Martinez.mp3\n",
      "Generated audio for aura-luna-en: ./audio/24_Sarah_Chen.mp3\n",
      "Generated audio for aura-perseus-en: ./audio/25_Liam_Foster.mp3\n",
      "Generated audio for aura-luna-en: ./audio/26_Sarah_Chen.mp3\n",
      "Audio generation complete. The files are numbered in the order of the conversation.\n"
     ]
    }
   ],
   "source": [
    "\n",
    "if __name__ == \"__main__\":\n",
    "    main()"
   ]
  },
  {
   "cell_type": "code",
   "execution_count": 39,
   "metadata": {},
   "outputs": [
    {
     "name": "stdout",
     "output_type": "stream",
     "text": [
      "Concatenated audio saved as full_conversation.mp3\n"
     ]
    }
   ],
   "source": [
    "from pydub import AudioSegment\n",
    "import os\n",
    "\n",
    "INPUT_FOLDER = \"audio\"\n",
    "OUTPUT_FILE = \"full_conversation.mp3\"\n",
    "PAUSE_DURATION = 800  # milliseconds\n",
    "\n",
    "def concatenate_audio_files():\n",
    "    # Get all MP3 files from the input folder\n",
    "    audio_files = [f for f in os.listdir(INPUT_FOLDER) if f.endswith('.mp3')]\n",
    "    \n",
    "    # Sort the files to ensure they're in the correct order\n",
    "    audio_files.sort()\n",
    "\n",
    "    # Create an empty audio segment\n",
    "    combined = AudioSegment.empty()\n",
    "\n",
    "    # Create a pause segment\n",
    "    pause = AudioSegment.silent(duration=PAUSE_DURATION)\n",
    "\n",
    "    # Concatenate all audio files with pauses\n",
    "    for file in audio_files:\n",
    "        # Load the audio file\n",
    "        audio = AudioSegment.from_mp3(os.path.join(INPUT_FOLDER, file))\n",
    "        \n",
    "        # Add the audio to the combined track\n",
    "        combined += audio\n",
    "        \n",
    "        # Add a pause after the audio (except for the last file)\n",
    "        if file != audio_files[-1]:\n",
    "            combined += pause\n",
    "\n",
    "    # Export the final audio file\n",
    "    combined.export(OUTPUT_FILE, format=\"mp3\")\n",
    "    print(f\"Concatenated audio saved as {OUTPUT_FILE}\")\n",
    "\n",
    "if __name__ == \"__main__\":\n",
    "    concatenate_audio_files()"
   ]
  },
  {
   "cell_type": "code",
   "execution_count": 1,
   "metadata": {},
   "outputs": [
    {
     "name": "stdout",
     "output_type": "stream",
     "text": [
      "Converted 01_Sarah_Chen.mp3 to 01_Sarah_Chen.wav\n",
      "Converted 02_Alex_Rodriguez.mp3 to 02_Alex_Rodriguez.wav\n",
      "Converted 03_Sarah_Chen.mp3 to 03_Sarah_Chen.wav\n",
      "Converted 04_Emily_Watson.mp3 to 04_Emily_Watson.wav\n",
      "Converted 05_Sarah_Chen.mp3 to 05_Sarah_Chen.wav\n",
      "Converted 06_Michael_Kim.mp3 to 06_Michael_Kim.wav\n",
      "Converted 07_Sarah_Chen.mp3 to 07_Sarah_Chen.wav\n",
      "Converted 08_Olivia_Martinez.mp3 to 08_Olivia_Martinez.wav\n",
      "Converted 09_Sarah_Chen.mp3 to 09_Sarah_Chen.wav\n",
      "Converted 10_Liam_Foster.mp3 to 10_Liam_Foster.wav\n",
      "Converted 11_Sarah_Chen.mp3 to 11_Sarah_Chen.wav\n",
      "Converted 12_Alex_Rodriguez.mp3 to 12_Alex_Rodriguez.wav\n",
      "Converted 13_Emily_Watson.mp3 to 13_Emily_Watson.wav\n",
      "Converted 14_Michael_Kim.mp3 to 14_Michael_Kim.wav\n",
      "Converted 15_Olivia_Martinez.mp3 to 15_Olivia_Martinez.wav\n",
      "Converted 16_Liam_Foster.mp3 to 16_Liam_Foster.wav\n",
      "Converted 17_Sarah_Chen.mp3 to 17_Sarah_Chen.wav\n",
      "Converted 18_Michael_Kim.mp3 to 18_Michael_Kim.wav\n",
      "Converted 19_Alex_Rodriguez.mp3 to 19_Alex_Rodriguez.wav\n",
      "Converted 20_Sarah_Chen.mp3 to 20_Sarah_Chen.wav\n",
      "Converted 21_Emily_Watson.mp3 to 21_Emily_Watson.wav\n",
      "Converted 22_Sarah_Chen.mp3 to 22_Sarah_Chen.wav\n",
      "Converted 23_Olivia_Martinez.mp3 to 23_Olivia_Martinez.wav\n",
      "Converted 24_Sarah_Chen.mp3 to 24_Sarah_Chen.wav\n",
      "Converted 25_Liam_Foster.mp3 to 25_Liam_Foster.wav\n",
      "Converted 26_Sarah_Chen.mp3 to 26_Sarah_Chen.wav\n",
      "Converted full_conversation.mp3 to full_conversation.wav\n"
     ]
    }
   ],
   "source": [
    "import os\n",
    "from pydub import AudioSegment\n",
    "\n",
    "def convert_mp3_to_wav(input_folder, output_folder):\n",
    "    # Create output folder if it doesn't exist\n",
    "    if not os.path.exists(output_folder):\n",
    "        os.makedirs(output_folder)\n",
    "    \n",
    "    # Get all MP3 files from the input folder\n",
    "    mp3_files = [f for f in os.listdir(input_folder) if f.endswith('.mp3')]\n",
    "    \n",
    "    for mp3_file in mp3_files:\n",
    "        # Construct full file paths\n",
    "        mp3_path = os.path.join(input_folder, mp3_file)\n",
    "        wav_file = os.path.splitext(mp3_file)[0] + '.wav'\n",
    "        wav_path = os.pSath.join(output_folder, wav_file)\n",
    "        \n",
    "        # Load MP3 and export as SWAV\n",
    "        audio = AudioSegment.from_mp3(mp3_path)\n",
    "        audio.export(wav_path, format='wav')\n",
    "        \n",
    "        print(f\"Converted {mp3_file} to {wav_file}\")\n",
    "\n",
    "if __name__ == \"__main__\":\n",
    "    input_folder = \"audio\"  # Change this to your input folder path\n",
    "    output_folder = \"audio_wav\"  # Change this to your desired output folder path\n",
    "    convert_mp3_to_wav(input_folder, output_folder)\n"
   ]
  },
  {
   "cell_type": "code",
   "execution_count": 19,
   "metadata": {},
   "outputs": [
    {
     "data": {
      "text/plain": [
       "'c:\\\\Egyetem\\\\7Felev\\\\Szakdolgozat\\\\summer\\\\notebooks'"
      ]
     },
     "execution_count": 19,
     "metadata": {},
     "output_type": "execute_result"
    }
   ],
   "source": []
  },
  {
   "cell_type": "code",
   "execution_count": null,
   "metadata": {},
   "outputs": [],
   "source": []
  }
 ],
 "metadata": {
  "kernelspec": {
   "display_name": ".venv",
   "language": "python",
   "name": "python3"
  },
  "language_info": {
   "codemirror_mode": {
    "name": "ipython",
    "version": 3
   },
   "file_extension": ".py",
   "mimetype": "text/x-python",
   "name": "python",
   "nbconvert_exporter": "python",
   "pygments_lexer": "ipython3",
   "version": "3.12.5"
  }
 },
 "nbformat": 4,
 "nbformat_minor": 2
}
